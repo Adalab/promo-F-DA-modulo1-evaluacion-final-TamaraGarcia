{
 "cells": [
  {
   "cell_type": "code",
   "execution_count": 71,
   "metadata": {},
   "outputs": [],
   "source": [
    "import re\n",
    "\n",
    "class TiendaOnline: \n",
    "\n",
    "  def __init__(self, inventario= [], clientes= {}, ventas_totales= 0.0):\n",
    "    self.inventario = inventario # {'objeto': 'Camisa', 'precio': 20, 'cantidad': 40}, {'objeto': 'Pantalón', 'precio': 30, 'cantidad': 30}\n",
    "    self.clientes = clientes # {'Cliente1': {'email': 'cliente1@email.com', 'compras': []}, 'Cliente2': {'email': 'cliente2@email.com', 'compras': []}}\n",
    "    self.ventas_totales = ventas_totales\n",
    "\n",
    "\n",
    "# MÉTODOS\n",
    "\n",
    "  def agregar_producto(self, objeto, precio, cantidad): #1\n",
    "\n",
    "    producto_nuevo = {'objeto': objeto, 'precio': precio , 'cantidad': cantidad}\n",
    "\n",
    "    existe_producto = False # si no existe\n",
    "    for producto in self.inventario: #por cada producto (diccionario)\n",
    "        if producto['objeto'] == objeto: #tengo que buscar un elemto concreto (objeto) dentro de cada diccionario\n",
    "          producto['cantidad'] = cantidad \n",
    "          existe_producto = True # sí que existe\n",
    "    \n",
    "    if (not existe_producto): # pero en caso de que no exista, hay que añadirlo\n",
    "      self.inventario.append(producto_nuevo)\n",
    "\n",
    "    return self.inventario\n",
    "  \n",
    "\n",
    "\n",
    "  \n",
    "  def buscar_producto(self, objeto): #3\n",
    "\n",
    "    busqueda = []\n",
    "\n",
    "    for producto in self.inventario:\n",
    "      if producto['objeto'] == objeto:\n",
    "        busqueda.append(producto)\n",
    "\n",
    "\n",
    "    return busqueda\n",
    "\n",
    "\n",
    "\n",
    "\n",
    "\n",
    "  def eliminar_producto(self, objeto): #5\n",
    "\n",
    "    existe_producto = False\n",
    "    indice = 0\n",
    "\n",
    "    for producto in self.inventario:\n",
    "      if producto['objeto'] == objeto:\n",
    "        self.inventario.pop(indice) #Con pop necesito el indice así que le paso la variable indice para que vaya buscando por las posiciones una a una\n",
    "        existe_producto = True\n",
    "      indice += 1\n",
    "\n",
    "    if existe_producto == False:\n",
    "        print ('Ese producto no está en el inventario.')    \n",
    "      \n",
    "\n",
    "    \n",
    "    \n",
    "\n",
    "  def ver_inventario(self): #2\n",
    "\n",
    "    for producto in self.inventario:\n",
    "      print(producto)\n",
    "      \n",
    "\n",
    "\n",
    "\n",
    "\n",
    "  def actualizar_stock(self, objeto, cantidad): #4\n",
    "    \n",
    "    existe_producto = False\n",
    "\n",
    "    for producto in self.inventario: \n",
    "        if producto['objeto'] == objeto: \n",
    "          producto['cantidad'] += cantidad\n",
    "          existe_producto = True\n",
    "    \n",
    "    if existe_producto == False:\n",
    "        print ('Ese producto no está en el inventario.')  \n",
    "      \n",
    "  \n",
    "  \n",
    "  \n",
    "  \n",
    "  def buscar_producto_regex(self, patron): # 7\n",
    "  \n",
    "    busqueda = []\n",
    "\n",
    "    for producto in self.inventario:\n",
    "      if re.match(patron, producto['objeto']):\n",
    "        busqueda.append(producto)\n",
    "\n",
    "    return busqueda\n",
    "\n",
    "\n",
    "\n",
    "  def calcular_valor_inventario(self): # 6 # {'objeto': 'Camisa', 'precio': 20, 'cantidad': 40}, {'objeto': 'Pantalón', 'precio': 30, 'cantidad': 30}\n",
    "\n",
    "    valor_total = 0\n",
    "\n",
    "    for producto in self.inventario:\n",
    "      valor_total += producto['precio'] * producto['cantidad'] \n",
    "\n",
    "    return valor_total\n",
    "  \n",
    "\n",
    "\n",
    "\n",
    "  def agregar_cliente(self, nombre, email): # 10  #{'Cliente1': {'email': 'cliente1@email.com', 'compras': []}, 'Cliente2': {'email': 'cliente2@email.com', 'compras': []}}\n",
    "\n",
    "    nuevo_cliente = {nombre: {'email': email, 'compras': []}} # meto compras aunque no lo pidan porque así ya lo tengo\n",
    "    \n",
    "    self.clientes.update(nuevo_cliente)\n",
    "\n",
    "\n",
    "\n",
    "\n",
    "  def ver_clientes(self): #11\n",
    "\n",
    "    for nombre, datos in self.clientes.items():\n",
    "      print(nombre, datos['email'])\n",
    "\n",
    "\n",
    "\n",
    "\n",
    "  def realizar_compra(self): # 8\n",
    "\n",
    "    comprando = input(f'¿Quieres añadir un producto al carrito? S/N').upper()\n",
    "\n",
    "    costo = 0\n",
    "    carrito = []\n",
    "\n",
    "    while comprando == 'S':\n",
    "\n",
    "      self.ver_inventario() # no hago print aquí porque ya va dentro de la función\n",
    "      objeto = input(f'¿Qué producto quieres añadir?')\n",
    "      \n",
    "      producto = self.buscar_producto(objeto) [0] # dentro de la variable producto guardo la busqueda de la función y con [0] me va a devolver el primer elemento de la lista 'busqueda'\n",
    "      cantidad = int(input(f'¿Cuantos {objeto} quieres comprar?'))\n",
    "    \n",
    "      self.actualizar_stock (objeto, - cantidad) #dentro de actualizar stock cuento con que se añaden los productos, aquí los voy quitando, poniéndolo en los parámetros como negativo\n",
    "      \n",
    "      costo += producto['precio'] * cantidad\n",
    "      \n",
    "      productoencarrito = {'objeto': objeto, 'precio': producto['precio'] , 'cantidad': cantidad} \n",
    "      \n",
    "      carrito.append(productoencarrito) \n",
    "\n",
    "\n",
    "      comprando = input('¿Quieres añadir algo más? S/N').upper() # Una vez que comprando = 'N', sale del bucle y deja de comprar\n",
    "      \n",
    "    print(f'El costo total de su compra es {costo}')\n",
    "\n",
    "    return carrito\n",
    "\n",
    "    \n",
    "\n",
    "  def registrar_compra(self, nombre , carrito): # 12\n",
    "    #{'Cliente1': {'email': 'cliente1@email.com', 'compras': []}, 'Cliente2': {'email': 'cliente2@email.com', 'compras': []}}\n",
    "\n",
    "    total_compra = 0\n",
    "\n",
    "    if nombre in self.clientes:\n",
    "      self.clientes[nombre]['compras'].append(carrito) # de mi lista de clientes, según el nombre, miro las compras\n",
    "\n",
    "      for producto in carrito:\n",
    "        total_compra += producto['precio'] * producto['cantidad']\n",
    "      \n",
    "      self.ventas_totales += total_compra\n",
    "\n",
    "    else:\n",
    "      print('Ese nombre no se encuentra en la lista de clientes.')\n",
    "\n",
    "\n",
    "\n",
    "\n",
    "  def procesar_pago(self): # 9\n",
    "\n",
    "    try:\n",
    "\n",
    "      cantidad_total = float(input(f'Ingrese la cantidad total de la compra.'))\n",
    "      cantidad_pago = float(input(f'Ingrese el pago.'))\n",
    "\n",
    "      pago = cantidad_total - cantidad_pago\n",
    "\n",
    "      if cantidad_total > cantidad_pago:\n",
    "        print(f'Te faltan {pago}.')\n",
    "\n",
    "      if cantidad_total < cantidad_pago:\n",
    "        print(f'Pago realizado con éxito. Te sobran {- pago}') # - porque saldría un número negativo\n",
    "\n",
    "      if cantidad_total == cantidad_pago:\n",
    "        print(f'Pago realizado con éxito. Muchas gracias por su compra.')\n",
    "\n",
    "    except:\n",
    "      print('La cantidad ingresada no es correcta.')\n",
    "\n",
    "\n",
    "\n",
    "  \n",
    "\n",
    "  def ver_compras_cliente(self, nombre): #13\n",
    "    \n",
    "    if nombre in self.clientes:\n",
    "      self.clientes[nombre]['compras']\n",
    "\n",
    "      for compra in self.clientes[nombre]['compras']:\n",
    "        print(compra)\n",
    "\n",
    "\n",
    "\n",
    "  def calcular_ventas_totales(self): # 14\n",
    "    print(self.ventas_totales) # podría resolver esto con un bucle for para los clientes y las compras de cada uno pero ya se hace de manera automática en el registro de compras"
   ]
  },
  {
   "cell_type": "code",
   "execution_count": 72,
   "metadata": {},
   "outputs": [],
   "source": [
    "mi_tienda = TiendaOnline()"
   ]
  },
  {
   "cell_type": "code",
   "execution_count": 73,
   "metadata": {},
   "outputs": [],
   "source": [
    "mi_tienda.ver_inventario()"
   ]
  },
  {
   "cell_type": "code",
   "execution_count": 74,
   "metadata": {},
   "outputs": [
    {
     "data": {
      "text/plain": [
       "[{'objeto': 'Camisa', 'precio': 20, 'cantidad': 50},\n",
       " {'objeto': 'Pantalón', 'precio': 15, 'cantidad': 60}]"
      ]
     },
     "execution_count": 74,
     "metadata": {},
     "output_type": "execute_result"
    }
   ],
   "source": [
    "mi_tienda.agregar_producto('Camisa', 20, 50)\n",
    "mi_tienda.agregar_producto('Pantalón', 15, 60)"
   ]
  },
  {
   "cell_type": "code",
   "execution_count": 75,
   "metadata": {},
   "outputs": [
    {
     "name": "stdout",
     "output_type": "stream",
     "text": [
      "{'objeto': 'Camisa', 'precio': 20, 'cantidad': 50}\n",
      "{'objeto': 'Pantalón', 'precio': 15, 'cantidad': 60}\n"
     ]
    }
   ],
   "source": [
    "mi_tienda.ver_inventario()"
   ]
  },
  {
   "cell_type": "code",
   "execution_count": 76,
   "metadata": {},
   "outputs": [
    {
     "data": {
      "text/plain": [
       "[{'objeto': 'Camisa', 'precio': 20, 'cantidad': 50}]"
      ]
     },
     "execution_count": 76,
     "metadata": {},
     "output_type": "execute_result"
    }
   ],
   "source": [
    "mi_tienda.buscar_producto('Camisa')"
   ]
  },
  {
   "cell_type": "code",
   "execution_count": 77,
   "metadata": {},
   "outputs": [
    {
     "data": {
      "text/plain": [
       "[]"
      ]
     },
     "execution_count": 77,
     "metadata": {},
     "output_type": "execute_result"
    }
   ],
   "source": [
    "mi_tienda.buscar_producto('Calcetines')"
   ]
  },
  {
   "cell_type": "code",
   "execution_count": 78,
   "metadata": {},
   "outputs": [],
   "source": [
    "mi_tienda.eliminar_producto('Camisa')"
   ]
  },
  {
   "cell_type": "code",
   "execution_count": 79,
   "metadata": {},
   "outputs": [
    {
     "name": "stdout",
     "output_type": "stream",
     "text": [
      "{'objeto': 'Pantalón', 'precio': 15, 'cantidad': 60}\n"
     ]
    }
   ],
   "source": [
    "mi_tienda.ver_inventario()"
   ]
  },
  {
   "cell_type": "code",
   "execution_count": 80,
   "metadata": {},
   "outputs": [],
   "source": [
    "mi_tienda.actualizar_stock('Pantalón', 200)"
   ]
  },
  {
   "cell_type": "code",
   "execution_count": 81,
   "metadata": {},
   "outputs": [
    {
     "name": "stdout",
     "output_type": "stream",
     "text": [
      "{'objeto': 'Pantalón', 'precio': 15, 'cantidad': 260}\n"
     ]
    }
   ],
   "source": [
    "mi_tienda.ver_inventario()"
   ]
  },
  {
   "cell_type": "code",
   "execution_count": 82,
   "metadata": {},
   "outputs": [
    {
     "data": {
      "text/plain": [
       "[{'objeto': 'Pantalón', 'precio': 15, 'cantidad': 260}]"
      ]
     },
     "execution_count": 82,
     "metadata": {},
     "output_type": "execute_result"
    }
   ],
   "source": [
    "mi_tienda.buscar_producto_regex('P*') #cosas que empiezan por P"
   ]
  },
  {
   "cell_type": "code",
   "execution_count": 83,
   "metadata": {},
   "outputs": [
    {
     "data": {
      "text/plain": [
       "3900"
      ]
     },
     "execution_count": 83,
     "metadata": {},
     "output_type": "execute_result"
    }
   ],
   "source": [
    "mi_tienda.calcular_valor_inventario()"
   ]
  },
  {
   "cell_type": "code",
   "execution_count": 84,
   "metadata": {},
   "outputs": [],
   "source": [
    "mi_tienda.agregar_cliente('Tam', 'tamgarcia@adalab.es')"
   ]
  },
  {
   "cell_type": "code",
   "execution_count": 85,
   "metadata": {},
   "outputs": [
    {
     "name": "stdout",
     "output_type": "stream",
     "text": [
      "Tam tamgarcia@adalab.es\n"
     ]
    }
   ],
   "source": [
    "mi_tienda.ver_clientes()"
   ]
  },
  {
   "cell_type": "code",
   "execution_count": 90,
   "metadata": {},
   "outputs": [
    {
     "name": "stdout",
     "output_type": "stream",
     "text": [
      "{'objeto': 'Pantalón', 'precio': 15, 'cantidad': 243}\n",
      "El costo total de su compra es 45\n"
     ]
    }
   ],
   "source": [
    "carrito = mi_tienda.realizar_compra()\n",
    "\n",
    "#así me guarda la compra en la variable que me devuelve el return"
   ]
  },
  {
   "cell_type": "code",
   "execution_count": 91,
   "metadata": {},
   "outputs": [
    {
     "name": "stdout",
     "output_type": "stream",
     "text": [
      "{'objeto': 'Pantalón', 'precio': 15, 'cantidad': 240}\n"
     ]
    }
   ],
   "source": [
    "mi_tienda.ver_inventario()"
   ]
  },
  {
   "cell_type": "code",
   "execution_count": 92,
   "metadata": {},
   "outputs": [],
   "source": [
    "mi_tienda.registrar_compra('Tam', carrito)"
   ]
  },
  {
   "cell_type": "code",
   "execution_count": 93,
   "metadata": {},
   "outputs": [
    {
     "name": "stdout",
     "output_type": "stream",
     "text": [
      "[{'objeto': 'Pantalón', 'precio': 15, 'cantidad': 3}]\n"
     ]
    }
   ],
   "source": [
    "mi_tienda.ver_compras_cliente('Tam')"
   ]
  },
  {
   "cell_type": "code",
   "execution_count": 94,
   "metadata": {},
   "outputs": [
    {
     "name": "stdout",
     "output_type": "stream",
     "text": [
      "Pago realizado con éxito. Te sobran 55.0\n"
     ]
    }
   ],
   "source": [
    "mi_tienda.procesar_pago()"
   ]
  },
  {
   "cell_type": "code",
   "execution_count": 95,
   "metadata": {},
   "outputs": [
    {
     "name": "stdout",
     "output_type": "stream",
     "text": [
      "Te faltan 10.0.\n"
     ]
    }
   ],
   "source": [
    "mi_tienda.procesar_pago()"
   ]
  },
  {
   "cell_type": "code",
   "execution_count": 96,
   "metadata": {},
   "outputs": [
    {
     "name": "stdout",
     "output_type": "stream",
     "text": [
      "La cantidad ingresada no es correcta.\n"
     ]
    }
   ],
   "source": [
    "mi_tienda.procesar_pago()"
   ]
  },
  {
   "cell_type": "code",
   "execution_count": 97,
   "metadata": {},
   "outputs": [
    {
     "name": "stdout",
     "output_type": "stream",
     "text": [
      "45.0\n"
     ]
    }
   ],
   "source": [
    "mi_tienda.calcular_ventas_totales()"
   ]
  },
  {
   "cell_type": "code",
   "execution_count": null,
   "metadata": {},
   "outputs": [],
   "source": []
  }
 ],
 "metadata": {
  "kernelspec": {
   "display_name": "Python 3",
   "language": "python",
   "name": "python3"
  },
  "language_info": {
   "codemirror_mode": {
    "name": "ipython",
    "version": 3
   },
   "file_extension": ".py",
   "mimetype": "text/x-python",
   "name": "python",
   "nbconvert_exporter": "python",
   "pygments_lexer": "ipython3",
   "version": "3.9.7"
  }
 },
 "nbformat": 4,
 "nbformat_minor": 2
}
